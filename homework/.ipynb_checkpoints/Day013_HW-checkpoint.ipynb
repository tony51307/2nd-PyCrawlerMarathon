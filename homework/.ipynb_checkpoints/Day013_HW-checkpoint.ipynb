{
 "cells": [
  {
   "cell_type": "markdown",
   "metadata": {},
   "source": [
    "# PTT 網路爬蟲實作練習\n",
    "\n",
    "\n",
    "* 能夠利用 Request + BeatifulSour 撰寫爬蟲，並存放到合適的資料結構\n"
   ]
  },
  {
   "cell_type": "markdown",
   "metadata": {},
   "source": [
    "## 作業目標\n",
    "\n",
    "根據範例 ，完成以下問題：\n",
    "\n",
    "* ① 印出最新文章的「作者」「標題」「時間」\n",
    "* ② 印出第一頁所有文章的「作者」「標題」「時間」\n"
   ]
  },
  {
   "cell_type": "markdown",
   "metadata": {},
   "source": [
    "### ① 印出最新文章的「作者」「標題」「時間」"
   ]
  },
  {
   "cell_type": "code",
   "execution_count": 17,
   "metadata": {},
   "outputs": [
    {
     "data": {
      "text/plain": [
       "'/bbs/NBA/M.1583755951.A.426.html'"
      ]
     },
     "execution_count": 17,
     "metadata": {},
     "output_type": "execute_result"
    }
   ],
   "source": []
  },
  {
   "cell_type": "code",
   "execution_count": 43,
   "metadata": {},
   "outputs": [
    {
     "data": {
      "text/plain": [
       "標題    [情報] 蘭德爾：羅賓遜不用擔心技犯，我會幫他付\n",
       "作者             PttGod (PttGod)\n",
       "日期         2020-03-09 20:12:28\n",
       "Name: 0, dtype: object"
      ]
     },
     "execution_count": 43,
     "metadata": {},
     "output_type": "execute_result"
    }
   ],
   "source": [
    "from datetime import datetime\n",
    "import pandas as pd\n",
    "import requests\n",
    "from bs4 import BeautifulSoup\n",
    "r=requests.get('https://www.ptt.cc/bbs/NBA/index.html')\n",
    "soup=BeautifulSoup(r.text)\n",
    "posts=pd.DataFrame()\n",
    "author=[]\n",
    "topic=[]\n",
    "date=[]\n",
    "for d in soup.find_all('div',class_='r-ent'):\n",
    "    try:\n",
    "        r_new=requests.get(\"https://www.ptt.cc\"+d.find(class_='title').find('a')['href'])\n",
    "        soup_new=BeautifulSoup(r_new.text)\n",
    "        author.append(soup_new.find_all(class_='article-meta-value')[0].text)\n",
    "        topic.append(soup_new.find_all(class_='article-meta-value')[-2].text)\n",
    "        date.append(soup_new.find_all(class_='article-meta-value')[-1].text)\n",
    "    except:\n",
    "        continue\n",
    "    \n",
    "posts['標題']=topic\n",
    "posts['作者']=author\n",
    "posts['日期']=pd.to_datetime(date)\n",
    "\n",
    "posts.sort_values('日期',ascending=False)\n",
    "posts.iloc[0,:]"
   ]
  },
  {
   "cell_type": "markdown",
   "metadata": {},
   "source": [
    "### ② 印出第一頁所有文章的「作者」「標題」「時間」"
   ]
  },
  {
   "cell_type": "code",
   "execution_count": 5,
   "metadata": {},
   "outputs": [
    {
     "name": "stdout",
     "output_type": "stream",
     "text": [
      "作者： PttGod\n",
      "標題： [情報] 蘭德爾：羅賓遜不用擔心技犯，我會幫他付\n",
      "日期：  3/09\n",
      "\n",
      "作者： Ginpunch\n",
      "標題： Re: [情報] SNY記者：一些籃網老將質疑阿特金森能否\n",
      "日期：  3/09\n",
      "\n",
      "作者： go190214\n",
      "標題： [新聞] 重建有功仍再見 波總幫說話\n",
      "日期：  3/09\n",
      "\n",
      "作者： PttGod\n",
      "標題： [花邊] 憤怒的獅王！詹姆斯發怒吼慶祝照自比雄獅\n",
      "日期：  3/09\n",
      "\n",
      "作者： timmyen\n",
      "標題： Re: [討論] LBJ現今擁有的成就已經能超過賈霸了嗎\n",
      "日期：  3/09\n",
      "\n",
      "作者： asdf1256\n",
      "標題： [新聞] 懊悔年少不懂理財！退役NBA巨星韋德脫手\n",
      "日期：  3/09\n",
      "\n",
      "作者： vogue38\n",
      "標題： Re: [討論] Curry是不是現今有成就也不被認可的球員?\n",
      "日期：  3/09\n",
      "\n",
      "作者： Vedan\n",
      "標題： [公告] 板規v6.8\n",
      "日期：  5/24\n",
      "\n",
      "作者： qazwsx879345\n",
      "標題： [公告] 版主上任相關事項 \n",
      "日期： 10/25\n",
      "\n",
      "作者： Acetoxy\n",
      "標題： [情報] SEASON Schedule 賽程 March 19–20\n",
      "日期：  3/02\n",
      "\n",
      "作者： Vedan\n",
      "標題： Fw: [公告] 即日起開放 NTU 信箱註冊帳號\n",
      "日期：  3/04\n",
      "\n",
      "作者： Vedan\n",
      "標題： [公告] 第一次被退文，可在三天後刪除退文\n",
      "日期：  3/09\n",
      "\n"
     ]
    }
   ],
   "source": [
    "r=requests.get('https://www.ptt.cc/bbs/NBA/index.html')\n",
    "soup=BeautifulSoup(r.text)\n",
    "for d in soup.find_all('div',class_='r-ent'):\n",
    "    print('作者： '+str(d.find(class_='meta').find(class_='author').text))\n",
    "    print('標題： '+str(d.find(class_='title').text).replace('\\n',''))\n",
    "    print('日期： '+str(d.find(class_='meta').find(class_='date').text))\n",
    "    print()"
   ]
  },
  {
   "cell_type": "markdown",
   "metadata": {},
   "source": [
    "### ③ 試著爬爬看其他版的文章"
   ]
  },
  {
   "cell_type": "code",
   "execution_count": 6,
   "metadata": {},
   "outputs": [
    {
     "name": "stdout",
     "output_type": "stream",
     "text": [
      "作者： hochirijay\n",
      "標題： [問題] 申請PhD收到兩次不同結果\n",
      "日期：  3/07\n",
      "\n",
      "作者： Emik\n",
      "標題： [尋人] 2020 Fall 前往西北的夥伴\n",
      "日期：  3/07\n",
      "\n",
      "作者： hochirijay\n",
      "標題： [選校] 代Po 2020Fall Imperial/GaTech 選校建議\n",
      "日期：  3/07\n",
      "\n",
      "作者： miyazako\n",
      "標題： [心得] 申請學校的資料清單\n",
      "日期：  3/08\n",
      "\n",
      "作者： Moroshe\n",
      "標題： Re: [問題] 請教美國CS/CSE MS/PhD申請難度\n",
      "日期：  3/08\n",
      "\n",
      "作者： kurugm\n",
      "標題： Re: [心得] 讀LLM值得嗎？(一：選校篇)\n",
      "日期：  3/08\n",
      "\n",
      "作者： kurugm\n",
      "標題： Re: [心得] 讀LLM值得嗎？(二：工作篇)\n",
      "日期：  3/08\n",
      "\n",
      "作者： kurugm\n",
      "標題： Re: [心得] 讀LLM值得嗎？(三：心態篇)\n",
      "日期：  3/08\n",
      "\n",
      "作者： LineBacker\n",
      "標題： [心得] 英國博班申請心得及回饋\n",
      "日期：  3/08\n",
      "\n",
      "作者： ilbhere\n",
      "標題： [錄取] HBS/INSEAD/Cornell Johnson PhD\n",
      "日期：  3/08\n",
      "\n",
      "作者： kobebset105\n",
      "標題： [問題] 申請二碩跟PHD成績請益\n",
      "日期：  3/09\n",
      "\n",
      "作者： itachi830220\n",
      "標題： [情報] Georgia Tech TSA 歡迎2020新生\n",
      "日期：  3/09\n",
      "\n",
      "作者： UCSDTGSA\n",
      "標題： [情報] UCSD 2020 新生情報!\n",
      "日期：  3/09\n",
      "\n",
      "作者： uiaq\n",
      "標題： Re: [選校] 代Po 2020Fall Imperial/GaTech 選校建議\n",
      "日期：  3/09\n",
      "\n",
      "作者： KouChan\n",
      "標題： [問題] I-20 上的city of birth錯誤\n",
      "日期：  3/09\n",
      "\n",
      "作者： woowoo1234\n",
      "標題： [問題] 有唸UT Health San Antonio的朋友嗎\n",
      "日期：  3/09\n",
      "\n",
      "作者： zxc830970\n",
      "標題： [問題] 語言能力證明，Duolingo\n",
      "日期：  3/09\n",
      "\n",
      "作者： ron0908\n",
      "標題： [公告] 買賣書籍/團報/課程  請統一推文\n",
      "日期： 12/20\n",
      "\n",
      "作者： ron0908\n",
      "標題： [公告] 新手常見Q&A (不定時補完)\n",
      "日期：  9/05\n",
      "\n",
      "作者： aznchat100\n",
      "標題： Re: [情報] 留學版全文搜尋工具(持續更新)\n",
      "日期：  5/11\n",
      "\n",
      "作者： ron0908\n",
      "標題： Re: [公告] 留學板板規v2.3 (2018.08.05修改)\n",
      "日期：  8/05\n",
      "\n",
      "作者： ron0908\n",
      "標題： Re: [公告] 開放admission, rejection推文\n",
      "日期：  1/05\n",
      "\n"
     ]
    }
   ],
   "source": [
    "r=requests.get('https://www.ptt.cc/bbs/studyabroad/index.html')\n",
    "soup=BeautifulSoup(r.text)\n",
    "for d in soup.find_all('div',class_='r-ent'):\n",
    "    print('作者： '+str(d.find(class_='meta').find(class_='author').text))\n",
    "    print('標題： '+str(d.find(class_='title').text).replace('\\n',''))\n",
    "    print('日期： '+str(d.find(class_='meta').find(class_='date').text))\n",
    "    print()"
   ]
  },
  {
   "cell_type": "code",
   "execution_count": null,
   "metadata": {},
   "outputs": [],
   "source": []
  }
 ],
 "metadata": {
  "kernelspec": {
   "display_name": "Python 3",
   "language": "python",
   "name": "python3"
  },
  "language_info": {
   "codemirror_mode": {
    "name": "ipython",
    "version": 3
   },
   "file_extension": ".py",
   "mimetype": "text/x-python",
   "name": "python",
   "nbconvert_exporter": "python",
   "pygments_lexer": "ipython3",
   "version": "3.7.1"
  }
 },
 "nbformat": 4,
 "nbformat_minor": 2
}
