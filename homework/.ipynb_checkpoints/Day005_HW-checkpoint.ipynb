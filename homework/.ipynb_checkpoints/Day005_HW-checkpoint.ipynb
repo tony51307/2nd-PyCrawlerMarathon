{
 "cells": [
  {
   "cell_type": "markdown",
   "metadata": {},
   "source": [
    "# API 資料串接 - 以 Dcard API 實作範例\n",
    "\n",
    "* 了解 Dcard API 使用方式與回傳內容\n",
    "* 撰寫程式存取 API 且解析 JSON 格式資料\n"
   ]
  },
  {
   "cell_type": "markdown",
   "metadata": {},
   "source": [
    "## 作業目標\n",
    "\n",
    "* 請利用 API: https://www.dcard.tw/_api/forums/pet/posts?popular=true 回答下列問題：\n",
    "\n",
    "1. 這個 API 一次會回傳幾筆資料？每一筆資料包含哪些欄位？\n",
    "2. 取出每一筆資料的「標題」、「貼文時間」、「留言人數」、「按讚人數」\n",
    "3. 計算熱門/非熱門文章的「平均留言人數」與「平均按讚人數」"
   ]
  },
  {
   "cell_type": "code",
   "execution_count": 6,
   "metadata": {},
   "outputs": [
    {
     "data": {
      "text/plain": [
       "30"
      ]
     },
     "execution_count": 6,
     "metadata": {},
     "output_type": "execute_result"
    }
   ],
   "source": [
    "# 1. 這個 API 一次會回傳幾筆資料？每一筆資料包含哪些欄位？\n",
    "import requests\n",
    "import json\n",
    "response=requests.get('https://www.dcard.tw/_api/forums/pet/posts?popular=true')\n",
    "response=response.text\n",
    "data=json.loads(response)\n",
    "len(data)"
   ]
  },
  {
   "cell_type": "code",
   "execution_count": 7,
   "metadata": {},
   "outputs": [
    {
     "name": "stdout",
     "output_type": "stream",
     "text": [
      "有人有看過這麼有喜感的貓嗎 2020-02-27T00:41:45.740Z 56 1382\n",
      "我的夢幻玉米蛇😭 2020-02-26T17:59:21.848Z 44 1111\n",
      "你要工人？ 2020-02-26T18:35:16.716Z 9 1080\n",
      "小蝦蝦不知道可不可以上熱門🥺 2020-02-26T22:13:53.583Z 32 259\n",
      "天氣好想拍貓 天氣不好想拍貓 2020-02-26T17:05:42.877Z 1 210\n",
      "#圖 在公園遛天竺鼠ヽ(✿ﾟ▽ﾟ)ノ 2020-02-27T08:00:49.162Z 5 69\n",
      "看起來很衰的臘腸狗 2020-02-27T03:24:54.078Z 6 56\n",
      "不喜歡洗澡的狗 2020-02-27T01:06:35.270Z 9 29\n",
      "習慣躺枕頭睡覺 2020-02-27T05:50:41.877Z 6 21\n",
      "拍屁屁奴隸的心聲 2020-02-27T13:38:01.565Z 2 20\n",
      "柴柴從後面看像什麼！ 2020-02-26T18:19:46.140Z 2 16\n",
      "朕想怎麼睡 就怎麼睡(˶‾᷄ ⁻̫ ‾᷅˵) 2020-02-27T19:53:48.404Z 0 15\n",
      "來曬一下家裡的黑狗🐶 2020-02-27T21:10:15.772Z 1 14\n",
      "來曬一下可爾必思 2020-02-27T08:19:49.020Z 1 12\n",
      "露屁屁外星人 2020-02-27T07:09:01.168Z 0 12\n",
      "當你家的貓在看風景時⋯ 2020-02-27T06:48:59.523Z 0 12\n",
      "家有小三 2020-02-27T10:14:48.735Z 0 10\n",
      "文長 我擁有全世界最棒的貓咪 2020-02-27T23:47:16.852Z 3 9\n",
      "#協尋紅貴賓#懸賞金$5000#請大家幫忙頂上去！ 2020-02-27T17:05:28.180Z 3 8\n",
      "🐔抓癢 2020-02-27T05:50:48.792Z 3 8\n",
      "看那顫抖的小眼眶 2020-02-27T22:52:19.976Z 2 7\n",
      "學妹揪我一起看貓 2020-02-27T05:18:10.961Z 4 7\n",
      "賤人！ 2020-02-27T17:57:19.700Z 1 6\n",
      "[抒發文]小狗狗去天堂了 2020-02-27T14:08:40.800Z 3 6\n",
      "從小養到大的主子真的信任我嗎 2020-02-27T08:13:49.089Z 6 6\n",
      "新手開缸小紀錄｜準備&第一天 2020-02-26T22:43:32.501Z 7 6\n",
      "回不去的喵喵 2020-02-27T01:49:34.657Z 1 5\n",
      "圖多，厭世又不失禮貌系列梗圖 2020-02-27T11:22:05.786Z 0 4\n",
      "倒下的貓 2020-02-27T06:28:59.575Z 0 4\n",
      "被耍了 2020-02-28T00:26:56.670Z 0 3\n"
     ]
    }
   ],
   "source": [
    "# 2. 取出每一筆資料的「標題」、「貼文時間」、「留言人數」、「按讚人數」\n",
    "\n",
    "for d in data:\n",
    "    print(d['title'],d['createdAt'],d['commentCount'],d['likeCount'])"
   ]
  },
  {
   "cell_type": "code",
   "execution_count": 11,
   "metadata": {},
   "outputs": [
    {
     "name": "stdout",
     "output_type": "stream",
     "text": [
      "熱門文章：\n",
      "6.9\n",
      "146.9\n",
      "非熱門文章：\n",
      "1.3666666666666667\n",
      "7.666666666666667\n"
     ]
    }
   ],
   "source": [
    "# 3. 計算熱門/非熱門文章的「平均留言人數」與「平均按讚人數」\n",
    "\n",
    "import requests\n",
    "import json\n",
    "response1=requests.get('https://www.dcard.tw/_api/forums/pet/posts?popular=false')\n",
    "response1=response1.text\n",
    "data1=json.loads(response1)\n",
    "len(data1)\n",
    "#計算熱門文章\n",
    "import numpy as np\n",
    "comment=[]\n",
    "like=[]\n",
    "for d in data:\n",
    "    comment.append(int(d['commentCount']))\n",
    "    like.append(int(d['likeCount']))\n",
    "print('熱門文章：')\n",
    "print(np.mean(comment))\n",
    "print(np.mean(like))\n",
    "\n",
    "#計算非熱門文章\n",
    "import numpy as np\n",
    "comment=[]\n",
    "like=[]\n",
    "for d in data1:\n",
    "    comment.append(int(d['commentCount']))\n",
    "    like.append(int(d['likeCount']))\n",
    "print('非熱門文章：')\n",
    "print(np.mean(comment))\n",
    "print(np.mean(like))"
   ]
  },
  {
   "cell_type": "code",
   "execution_count": null,
   "metadata": {},
   "outputs": [],
   "source": []
  }
 ],
 "metadata": {
  "kernelspec": {
   "display_name": "Python 3",
   "language": "python",
   "name": "python3"
  },
  "language_info": {
   "codemirror_mode": {
    "name": "ipython",
    "version": 3
   },
   "file_extension": ".py",
   "mimetype": "text/x-python",
   "name": "python",
   "nbconvert_exporter": "python",
   "pygments_lexer": "ipython3",
   "version": "3.7.1"
  }
 },
 "nbformat": 4,
 "nbformat_minor": 2
}
