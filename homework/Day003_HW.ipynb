{
 "cells": [
  {
   "cell_type": "markdown",
   "metadata": {},
   "source": [
    "# Python 下載XML檔案與解析\n",
    "\n",
    "\n",
    "* 了解 xml 檔案格式與內容\n",
    "* 能夠利用套件存取 xml 格式的檔案\n"
   ]
  },
  {
   "cell_type": "markdown",
   "metadata": {},
   "source": [
    "## 作業目標\n",
    "\n",
    "* 比較一下範例檔案中的「File I/O」與「xmltodict」讀出來的內容有什麼差異\n",
    "\n",
    "* 根據範例檔案的結果：\n",
    "    1. 請問高雄市有多少地區有溫度資料？\n",
    "    2. 請取出每一個地區所記錄的第一個時間點跟溫度\n",
    "    3. 請取出第一個地區所記錄的每一個時間點跟溫度"
   ]
  },
  {
   "cell_type": "markdown",
   "metadata": {},
   "source": [
    "### 比較一下範例檔案中的「File I/O」與「xmltodict」讀出來的內容有什麼差異\n"
   ]
  },
  {
   "cell_type": "code",
   "execution_count": 1,
   "metadata": {},
   "outputs": [
    {
     "name": "stdout",
     "output_type": "stream",
     "text": [
      "{'CUPOY': OrderedDict([('Title', '爬蟲馬拉松'), ('Author', 'Wei'), ('Chapters', OrderedDict([('Chapter', [OrderedDict([('@name', '01'), ('#text', '資料來源與存取')]), OrderedDict([('@name', '02'), ('#text', '靜態網頁爬蟲')]), OrderedDict([('@name', '03'), ('#text', '動態網頁爬蟲')])])]))])}\n",
      "<?xml version=\"1.0\" encoding=\"UTF-8\"?>\n",
      "<CUPOY>\n",
      "    <Title>爬蟲馬拉松</Title>\n",
      "    <Author>Wei</Author>\n",
      "    <Chapters>\n",
      "        <Chapter name=\"01\">資料來源與存取</Chapter>\n",
      "        <Chapter name=\"02\">靜態網頁爬蟲</Chapter>\n",
      "        <Chapter name=\"03\">動態網頁爬蟲</Chapter>\n",
      "    </Chapters>\n",
      "</CUPOY>\n"
     ]
    }
   ],
   "source": [
    "import xmltodict\n",
    "# 存取檔案\n",
    "with open('./Day003/sample.xml') as fd:\n",
    "    doc = dict(xmltodict.parse(fd.read()))\n",
    "    print(doc)\n",
    "    fd.close()\n",
    "with open('./Day003/sample.xml') as fd:\n",
    "    doc=fd.read()\n",
    "    print(doc) \n",
    "    fd.close()"
   ]
  },
  {
   "cell_type": "markdown",
   "metadata": {},
   "source": [
    "### 根據範例檔案的結果：\n",
    "\n",
    "1. 請問高雄市有多少地區有溫度資料？\n",
    "2. 請取出每一個地區所記錄的第一個時間點跟溫度\n",
    "3. 請取出第一個地區所記錄的每一個時間點跟溫度"
   ]
  },
  {
   "cell_type": "code",
   "execution_count": 2,
   "metadata": {},
   "outputs": [
    {
     "name": "stdout",
     "output_type": "stream",
     "text": [
      "38\n"
     ]
    }
   ],
   "source": [
    "# 1. 請問高雄市有多少地區有溫度資料？\n",
    "import xmltodict\n",
    "with open('./Day003/64_72hr_CH.xml') as fd:\n",
    "    doc = xmltodict.parse(fd.read())\n",
    "    print(len(doc['cwbopendata']['dataset']['locations']['location']))\n"
   ]
  },
  {
   "cell_type": "code",
   "execution_count": 9,
   "metadata": {},
   "outputs": [
    {
     "name": "stdout",
     "output_type": "stream",
     "text": [
      "鹽埕區 2019-06-28T12:00:00+08:00 OrderedDict([('value', '33'), ('measures', '攝氏度')])\n",
      "鼓山區 2019-06-28T12:00:00+08:00 OrderedDict([('value', '33'), ('measures', '攝氏度')])\n",
      "左營區 2019-06-28T12:00:00+08:00 OrderedDict([('value', '33'), ('measures', '攝氏度')])\n",
      "楠梓區 2019-06-28T12:00:00+08:00 OrderedDict([('value', '34'), ('measures', '攝氏度')])\n",
      "三民區 2019-06-28T12:00:00+08:00 OrderedDict([('value', '32'), ('measures', '攝氏度')])\n",
      "新興區 2019-06-28T12:00:00+08:00 OrderedDict([('value', '33'), ('measures', '攝氏度')])\n",
      "前金區 2019-06-28T12:00:00+08:00 OrderedDict([('value', '33'), ('measures', '攝氏度')])\n",
      "苓雅區 2019-06-28T12:00:00+08:00 OrderedDict([('value', '33'), ('measures', '攝氏度')])\n",
      "前鎮區 2019-06-28T12:00:00+08:00 OrderedDict([('value', '33'), ('measures', '攝氏度')])\n",
      "旗津區 2019-06-28T12:00:00+08:00 OrderedDict([('value', '32'), ('measures', '攝氏度')])\n",
      "小港區 2019-06-28T12:00:00+08:00 OrderedDict([('value', '33'), ('measures', '攝氏度')])\n",
      "鳳山區 2019-06-28T12:00:00+08:00 OrderedDict([('value', '34'), ('measures', '攝氏度')])\n",
      "林園區 2019-06-28T12:00:00+08:00 OrderedDict([('value', '33'), ('measures', '攝氏度')])\n",
      "大寮區 2019-06-28T12:00:00+08:00 OrderedDict([('value', '34'), ('measures', '攝氏度')])\n",
      "大樹區 2019-06-28T12:00:00+08:00 OrderedDict([('value', '34'), ('measures', '攝氏度')])\n",
      "大社區 2019-06-28T12:00:00+08:00 OrderedDict([('value', '34'), ('measures', '攝氏度')])\n",
      "仁武區 2019-06-28T12:00:00+08:00 OrderedDict([('value', '33'), ('measures', '攝氏度')])\n",
      "鳥松區 2019-06-28T12:00:00+08:00 OrderedDict([('value', '34'), ('measures', '攝氏度')])\n",
      "岡山區 2019-06-28T12:00:00+08:00 OrderedDict([('value', '34'), ('measures', '攝氏度')])\n",
      "橋頭區 2019-06-28T12:00:00+08:00 OrderedDict([('value', '35'), ('measures', '攝氏度')])\n",
      "燕巢區 2019-06-28T12:00:00+08:00 OrderedDict([('value', '34'), ('measures', '攝氏度')])\n",
      "田寮區 2019-06-28T12:00:00+08:00 OrderedDict([('value', '34'), ('measures', '攝氏度')])\n",
      "阿蓮區 2019-06-28T12:00:00+08:00 OrderedDict([('value', '34'), ('measures', '攝氏度')])\n",
      "路竹區 2019-06-28T12:00:00+08:00 OrderedDict([('value', '33'), ('measures', '攝氏度')])\n",
      "湖內區 2019-06-28T12:00:00+08:00 OrderedDict([('value', '33'), ('measures', '攝氏度')])\n",
      "茄萣區 2019-06-28T12:00:00+08:00 OrderedDict([('value', '33'), ('measures', '攝氏度')])\n",
      "永安區 2019-06-28T12:00:00+08:00 OrderedDict([('value', '32'), ('measures', '攝氏度')])\n",
      "彌陀區 2019-06-28T12:00:00+08:00 OrderedDict([('value', '32'), ('measures', '攝氏度')])\n",
      "梓官區 2019-06-28T12:00:00+08:00 OrderedDict([('value', '32'), ('measures', '攝氏度')])\n",
      "旗山區 2019-06-28T12:00:00+08:00 OrderedDict([('value', '34'), ('measures', '攝氏度')])\n",
      "美濃區 2019-06-28T12:00:00+08:00 OrderedDict([('value', '34'), ('measures', '攝氏度')])\n",
      "六龜區 2019-06-28T12:00:00+08:00 OrderedDict([('value', '34'), ('measures', '攝氏度')])\n",
      "甲仙區 2019-06-28T12:00:00+08:00 OrderedDict([('value', '33'), ('measures', '攝氏度')])\n",
      "杉林區 2019-06-28T12:00:00+08:00 OrderedDict([('value', '36'), ('measures', '攝氏度')])\n",
      "內門區 2019-06-28T12:00:00+08:00 OrderedDict([('value', '34'), ('measures', '攝氏度')])\n",
      "茂林區 2019-06-28T12:00:00+08:00 OrderedDict([('value', '34'), ('measures', '攝氏度')])\n",
      "桃源區 2019-06-28T12:00:00+08:00 OrderedDict([('value', '31'), ('measures', '攝氏度')])\n",
      "那瑪夏區 2019-06-28T12:00:00+08:00 OrderedDict([('value', '29'), ('measures', '攝氏度')])\n"
     ]
    }
   ],
   "source": [
    "# 2. 請取出每一個地區所記錄的第一個時間點跟溫度\n",
    "import xmltodict\n",
    "with open('./Day003/64_72hr_CH.xml') as fd:\n",
    "    doc = xmltodict.parse(fd.read())\n",
    "    doc=doc['cwbopendata']['dataset']['locations']['location']\n",
    "    for loc in doc:\n",
    "        locname=loc['locationName']\n",
    "        dataTime=loc['weatherElement'][0]['time'][0]['dataTime']\n",
    "        temp=loc['weatherElement'][0]['time'][0]['elementValue']\n",
    "        print(locname,dataTime,temp)"
   ]
  },
  {
   "cell_type": "code",
   "execution_count": 10,
   "metadata": {},
   "outputs": [
    {
     "name": "stdout",
     "output_type": "stream",
     "text": [
      "鹽埕區\n",
      "2019-06-28T12:00:00+08:00 OrderedDict([('value', '33'), ('measures', '攝氏度')])\n",
      "2019-06-28T15:00:00+08:00 OrderedDict([('value', '33'), ('measures', '攝氏度')])\n",
      "2019-06-28T18:00:00+08:00 OrderedDict([('value', '32'), ('measures', '攝氏度')])\n",
      "2019-06-28T21:00:00+08:00 OrderedDict([('value', '30'), ('measures', '攝氏度')])\n",
      "2019-06-29T00:00:00+08:00 OrderedDict([('value', '30'), ('measures', '攝氏度')])\n",
      "2019-06-29T03:00:00+08:00 OrderedDict([('value', '29'), ('measures', '攝氏度')])\n",
      "2019-06-29T06:00:00+08:00 OrderedDict([('value', '28'), ('measures', '攝氏度')])\n",
      "2019-06-29T09:00:00+08:00 OrderedDict([('value', '31'), ('measures', '攝氏度')])\n",
      "2019-06-29T12:00:00+08:00 OrderedDict([('value', '32'), ('measures', '攝氏度')])\n",
      "2019-06-29T15:00:00+08:00 OrderedDict([('value', '32'), ('measures', '攝氏度')])\n",
      "2019-06-29T18:00:00+08:00 OrderedDict([('value', '31'), ('measures', '攝氏度')])\n",
      "2019-06-29T21:00:00+08:00 OrderedDict([('value', '30'), ('measures', '攝氏度')])\n",
      "2019-06-30T00:00:00+08:00 OrderedDict([('value', '29'), ('measures', '攝氏度')])\n",
      "2019-06-30T03:00:00+08:00 OrderedDict([('value', '28'), ('measures', '攝氏度')])\n",
      "2019-06-30T06:00:00+08:00 OrderedDict([('value', '28'), ('measures', '攝氏度')])\n",
      "2019-06-30T09:00:00+08:00 OrderedDict([('value', '31'), ('measures', '攝氏度')])\n",
      "2019-06-30T12:00:00+08:00 OrderedDict([('value', '32'), ('measures', '攝氏度')])\n",
      "2019-06-30T15:00:00+08:00 OrderedDict([('value', '32'), ('measures', '攝氏度')])\n",
      "2019-06-30T18:00:00+08:00 OrderedDict([('value', '31'), ('measures', '攝氏度')])\n",
      "2019-06-30T21:00:00+08:00 OrderedDict([('value', '30'), ('measures', '攝氏度')])\n",
      "2019-07-01T00:00:00+08:00 OrderedDict([('value', '29'), ('measures', '攝氏度')])\n",
      "2019-07-01T03:00:00+08:00 OrderedDict([('value', '29'), ('measures', '攝氏度')])\n",
      "2019-07-01T06:00:00+08:00 OrderedDict([('value', '28'), ('measures', '攝氏度')])\n",
      "2019-07-01T09:00:00+08:00 OrderedDict([('value', '31'), ('measures', '攝氏度')])\n"
     ]
    }
   ],
   "source": [
    "# 3. 請取出第一個地區所記錄的每一個時間點跟溫度\n",
    "\n",
    "import xmltodict\n",
    "with open('./Day003/64_72hr_CH.xml') as fd:\n",
    "    doc = xmltodict.parse(fd.read())\n",
    "    print(doc['cwbopendata']['dataset']['locations']['location'][0]['locationName'])\n",
    "    for x in doc['cwbopendata']['dataset']['locations']['location'][0]['weatherElement'][0]['time']:\n",
    "        print(x['dataTime'],x['elementValue'])\n",
    "\n"
   ]
  },
  {
   "cell_type": "code",
   "execution_count": null,
   "metadata": {},
   "outputs": [],
   "source": []
  }
 ],
 "metadata": {
  "kernelspec": {
   "display_name": "Python 3",
   "language": "python",
   "name": "python3"
  },
  "language_info": {
   "codemirror_mode": {
    "name": "ipython",
    "version": 3
   },
   "file_extension": ".py",
   "mimetype": "text/x-python",
   "name": "python",
   "nbconvert_exporter": "python",
   "pygments_lexer": "ipython3",
   "version": "3.7.1"
  }
 },
 "nbformat": 4,
 "nbformat_minor": 2
}
