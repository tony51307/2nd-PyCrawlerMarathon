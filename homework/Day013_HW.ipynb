{
 "cells": [
  {
   "cell_type": "markdown",
   "metadata": {},
   "source": [
    "# PTT 網路爬蟲實作練習\n",
    "\n",
    "\n",
    "* 能夠利用 Request + BeatifulSour 撰寫爬蟲，並存放到合適的資料結構\n"
   ]
  },
  {
   "cell_type": "markdown",
   "metadata": {},
   "source": [
    "## 作業目標\n",
    "\n",
    "根據範例 ，完成以下問題：\n",
    "\n",
    "* ① 印出最新文章的「作者」「標題」「時間」\n",
    "* ② 印出第一頁所有文章的「作者」「標題」「時間」\n"
   ]
  },
  {
   "cell_type": "markdown",
   "metadata": {},
   "source": [
    "### ① 印出最新文章的「作者」「標題」「時間」"
   ]
  },
  {
   "cell_type": "code",
   "execution_count": 41,
   "metadata": {},
   "outputs": [
    {
     "name": "stdout",
     "output_type": "stream",
     "text": [
      "sthho \n",
      "[討論] NBA停賽的可能性?!\n",
      "  3/09\n",
      "Rambo \n",
      "[BOX ] Raptors 118:113 Kings 數據\n",
      "  3/09\n",
      "Vedan \n",
      "[公告] 第一次被退文，可在三天後刪除退文\n",
      "  3/09\n",
      "sodistrues \n",
      "[新聞]全陣快艇吞第一敗 湖人本季洛城內戰首開\n",
      "  3/09\n",
      "NSYSUheng \n",
      "[情報] 雷霆本季16次前三節落後逆轉勝 聯盟最多\n",
      "  3/09\n",
      "MayBeSoft \n",
      "[討論] 快艇是不是被騙了買到假貨啊\n",
      "  3/09\n"
     ]
    }
   ],
   "source": [
    "from datetime import datetime\n",
    "import pandas as pd\n",
    "import requests\n",
    "from bs4 import BeautifulSoup\n",
    "r=requests.get('https://www.ptt.cc/bbs/NBA/index.html')\n",
    "soup=BeautifulSoup(r.text)\n",
    "for d in soup.find_all('div',class_='r-ent'):\n",
    "    if d.find(class_='meta').find(class_='date').text[1:]==str(datetime.today().month)+'/0'+str(datetime.today().day):\n",
    "        print(str(d.find(class_='meta').find(class_='author').text)+\" \"+str(d.find(class_='title').text)+\" \"+str(d.find(class_='meta').find(class_='date').text))"
   ]
  },
  {
   "cell_type": "markdown",
   "metadata": {},
   "source": [
    "### ② 印出第一頁所有文章的「作者」「標題」「時間」"
   ]
  },
  {
   "cell_type": "code",
   "execution_count": 42,
   "metadata": {},
   "outputs": [
    {
     "name": "stdout",
     "output_type": "stream",
     "text": [
      "sthho \n",
      "[討論] NBA停賽的可能性?!\n",
      "  3/09\n",
      "Rambo \n",
      "[BOX ] Raptors 118:113 Kings 數據\n",
      "  3/09\n",
      "Vedan \n",
      "[公告] 第一次被退文，可在三天後刪除退文\n",
      "  3/09\n",
      "sodistrues \n",
      "[新聞]全陣快艇吞第一敗 湖人本季洛城內戰首開\n",
      "  3/09\n",
      "NSYSUheng \n",
      "[情報] 雷霆本季16次前三節落後逆轉勝 聯盟最多\n",
      "  3/09\n",
      "MayBeSoft \n",
      "[討論] 快艇是不是被騙了買到假貨啊\n",
      "  3/09\n",
      "Vedan \n",
      "[公告] 板規v6.8\n",
      "  5/24\n",
      "qazwsx879345 \n",
      "[公告] 版主上任相關事項 \n",
      " 10/25\n",
      "Acetoxy \n",
      "[情報] SEASON Schedule 賽程 March 19–20\n",
      "  3/02\n",
      "Vedan \n",
      "Fw: [公告] 即日起開放 NTU 信箱註冊帳號\n",
      "  3/04\n",
      "Vedan \n",
      "Fw: [公告] 台灣大學學生帳號註冊辦法\n",
      "  3/04\n"
     ]
    }
   ],
   "source": [
    "r=requests.get('https://www.ptt.cc/bbs/NBA/index.html')\n",
    "soup=BeautifulSoup(r.text)\n",
    "for d in soup.find_all('div',class_='r-ent'):\n",
    "    print(str(d.find(class_='meta').find(class_='author').text)+\" \"+str(d.find(class_='title').text)+\" \"+str(d.find(class_='meta').find(class_='date').text))"
   ]
  },
  {
   "cell_type": "markdown",
   "metadata": {},
   "source": [
    "### ③ 試著爬爬看其他版的文章"
   ]
  },
  {
   "cell_type": "code",
   "execution_count": 43,
   "metadata": {},
   "outputs": [
    {
     "name": "stdout",
     "output_type": "stream",
     "text": [
      "hochirijay \n",
      "[問題] 申請PhD收到兩次不同結果\n",
      "  3/07\n",
      "Emik \n",
      "[尋人] 2020 Fall 前往西北的夥伴\n",
      "  3/07\n",
      "hochirijay \n",
      "[選校] 代Po 2020Fall Imperial/GaTech 選校建議\n",
      "  3/07\n",
      "miyazako \n",
      "[心得] 申請學校的資料清單\n",
      "  3/08\n",
      "Moroshe \n",
      "Re: [問題] 請教美國CS/CSE MS/PhD申請難度\n",
      "  3/08\n",
      "kurugm \n",
      "Re: [心得] 讀LLM值得嗎？(一：選校篇)\n",
      "  3/08\n",
      "kurugm \n",
      "Re: [心得] 讀LLM值得嗎？(二：工作篇)\n",
      "  3/08\n",
      "kurugm \n",
      "Re: [心得] 讀LLM值得嗎？(三：心態篇)\n",
      "  3/08\n",
      "LineBacker \n",
      "[心得] 英國博班申請心得及回饋\n",
      "  3/08\n",
      "ilbhere \n",
      "[錄取] HBS/INSEAD/Cornell Johnson PhD\n",
      "  3/08\n",
      "kobebset105 \n",
      "[問題] 申請二碩跟PHD成績請益\n",
      "  3/09\n",
      "itachi830220 \n",
      "[情報] Georgia Tech TSA 歡迎2020新生\n",
      "  3/09\n",
      "ron0908 \n",
      "[公告] 買賣書籍/團報/課程  請統一推文\n",
      " 12/20\n",
      "ron0908 \n",
      "[公告] 新手常見Q&A (不定時補完)\n",
      "  9/05\n",
      "aznchat100 \n",
      "Re: [情報] 留學版全文搜尋工具(持續更新)\n",
      "  5/11\n",
      "ron0908 \n",
      "Re: [公告] 留學板板規v2.3 (2018.08.05修改)\n",
      "  8/05\n",
      "ron0908 \n",
      "Re: [公告] 開放admission, rejection推文\n",
      "  1/05\n"
     ]
    }
   ],
   "source": [
    "r=requests.get('https://www.ptt.cc/bbs/studyabroad/index.html')\n",
    "soup=BeautifulSoup(r.text)\n",
    "for d in soup.find_all('div',class_='r-ent'):\n",
    "    print(str(d.find(class_='meta').find(class_='author').text)+\" \"+str(d.find(class_='title').text)+\" \"+str(d.find(class_='meta').find(class_='date').text))"
   ]
  },
  {
   "cell_type": "code",
   "execution_count": null,
   "metadata": {},
   "outputs": [],
   "source": []
  }
 ],
 "metadata": {
  "kernelspec": {
   "display_name": "Python 3",
   "language": "python",
   "name": "python3"
  },
  "language_info": {
   "codemirror_mode": {
    "name": "ipython",
    "version": 3
   },
   "file_extension": ".py",
   "mimetype": "text/x-python",
   "name": "python",
   "nbconvert_exporter": "python",
   "pygments_lexer": "ipython3",
   "version": "3.7.1"
  }
 },
 "nbformat": 4,
 "nbformat_minor": 2
}
